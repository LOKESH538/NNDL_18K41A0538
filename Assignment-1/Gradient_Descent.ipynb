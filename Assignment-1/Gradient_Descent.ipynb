{
  "nbformat": 4,
  "nbformat_minor": 0,
  "metadata": {
    "colab": {
      "name": "Gradient_Descent.ipynb",
      "provenance": [],
      "collapsed_sections": []
    },
    "kernelspec": {
      "name": "python3",
      "display_name": "Python 3"
    }
  },
  "cells": [
    {
      "cell_type": "code",
      "metadata": {
        "colab": {
          "base_uri": "https://localhost:8080/"
        },
        "id": "2Mncj3Az-SsD",
        "outputId": "fc86694d-72ac-42cb-dab6-e8e701038411"
      },
      "source": [
        "from sympy import *\r\n",
        "x = Symbol('x')\r\n",
        "y = diff(x**4+3*x**2+10,x)\r\n",
        "print(f'First order derivative of given function is ( {y} )')\r\n",
        "f = lambda x: (x**4)+3*(x**2)+10\r\n",
        "x1 = 1.0 \r\n",
        "rate = 0.1 \r\n",
        "epochs = 20 \r\n",
        "iters = 0  \r\n",
        "while iters < epochs:\r\n",
        "    df = y.subs(x, x1) \r\n",
        "    df = round(df,2)\r\n",
        "    x1 = x1 - rate * df\r\n",
        "    x1 = round(x1,2)\r\n",
        "    iters = iters+1   \r\n",
        "print(\"The global minimum point of given function is at x =\", x1)\r\n",
        "print(\"The value of the function at minimum point is = \",f(x1))"
      ],
      "execution_count": 4,
      "outputs": [
        {
          "output_type": "stream",
          "text": [
            "First order derivative of given function is ( 4*x**3 + 6*x )\n",
            "The global minimum point of given function is at x = 0.0\n",
            "The value of the function at minimum point is =  10.0\n"
          ],
          "name": "stdout"
        }
      ]
    }
  ]
}